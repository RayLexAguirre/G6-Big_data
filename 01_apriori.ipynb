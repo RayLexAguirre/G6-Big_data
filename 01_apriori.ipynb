{
  "cells": [
    {
      "cell_type": "markdown",
      "metadata": {
        "id": "view-in-github",
        "colab_type": "text"
      },
      "source": [
        "<a href=\"https://colab.research.google.com/github/RayLexAguirre/G6-Big_data/blob/main/01_apriori.ipynb\" target=\"_parent\"><img src=\"https://colab.research.google.com/assets/colab-badge.svg\" alt=\"Open In Colab\"/></a>"
      ]
    },
    {
      "cell_type": "markdown",
      "source": [],
      "metadata": {
        "id": "qsIWC7hUmJGY"
      }
    },
    {
      "cell_type": "code",
      "execution_count": 2,
      "metadata": {
        "colab": {
          "base_uri": "https://localhost:8080/"
        },
        "id": "kH-9jEeGLunZ",
        "outputId": "2f9ef46b-814c-48b0-aa0f-edc09608f387"
      },
      "outputs": [
        {
          "output_type": "stream",
          "name": "stdout",
          "text": [
            "Looking in indexes: https://pypi.org/simple, https://us-python.pkg.dev/colab-wheels/public/simple/\n",
            "Requirement already satisfied: mlxtend in /usr/local/lib/python3.9/dist-packages (0.14.0)\n",
            "Requirement already satisfied: numpy>=1.10.4 in /usr/local/lib/python3.9/dist-packages (from mlxtend) (1.22.4)\n",
            "Requirement already satisfied: scipy>=0.17 in /usr/local/lib/python3.9/dist-packages (from mlxtend) (1.10.1)\n",
            "Requirement already satisfied: scikit-learn>=0.18 in /usr/local/lib/python3.9/dist-packages (from mlxtend) (1.2.2)\n",
            "Requirement already satisfied: pandas>=0.17.1 in /usr/local/lib/python3.9/dist-packages (from mlxtend) (1.4.4)\n",
            "Requirement already satisfied: setuptools in /usr/local/lib/python3.9/dist-packages (from mlxtend) (63.4.3)\n",
            "Requirement already satisfied: matplotlib>=1.5.1 in /usr/local/lib/python3.9/dist-packages (from mlxtend) (3.5.3)\n",
            "Requirement already satisfied: cycler>=0.10 in /usr/local/lib/python3.9/dist-packages (from matplotlib>=1.5.1->mlxtend) (0.11.0)\n",
            "Requirement already satisfied: pillow>=6.2.0 in /usr/local/lib/python3.9/dist-packages (from matplotlib>=1.5.1->mlxtend) (8.4.0)\n",
            "Requirement already satisfied: packaging>=20.0 in /usr/local/lib/python3.9/dist-packages (from matplotlib>=1.5.1->mlxtend) (23.0)\n",
            "Requirement already satisfied: python-dateutil>=2.7 in /usr/local/lib/python3.9/dist-packages (from matplotlib>=1.5.1->mlxtend) (2.8.2)\n",
            "Requirement already satisfied: pyparsing>=2.2.1 in /usr/local/lib/python3.9/dist-packages (from matplotlib>=1.5.1->mlxtend) (3.0.9)\n",
            "Requirement already satisfied: fonttools>=4.22.0 in /usr/local/lib/python3.9/dist-packages (from matplotlib>=1.5.1->mlxtend) (4.39.0)\n",
            "Requirement already satisfied: kiwisolver>=1.0.1 in /usr/local/lib/python3.9/dist-packages (from matplotlib>=1.5.1->mlxtend) (1.4.4)\n",
            "Requirement already satisfied: pytz>=2020.1 in /usr/local/lib/python3.9/dist-packages (from pandas>=0.17.1->mlxtend) (2022.7.1)\n",
            "Requirement already satisfied: joblib>=1.1.1 in /usr/local/lib/python3.9/dist-packages (from scikit-learn>=0.18->mlxtend) (1.1.1)\n",
            "Requirement already satisfied: threadpoolctl>=2.0.0 in /usr/local/lib/python3.9/dist-packages (from scikit-learn>=0.18->mlxtend) (3.1.0)\n",
            "Requirement already satisfied: six>=1.5 in /usr/local/lib/python3.9/dist-packages (from python-dateutil>=2.7->matplotlib>=1.5.1->mlxtend) (1.15.0)\n"
          ]
        }
      ],
      "source": [
        "pip install mlxtend     "
      ]
    },
    {
      "cell_type": "code",
      "execution_count": 3,
      "metadata": {
        "id": "zldZltwLf6TJ"
      },
      "outputs": [],
      "source": [
        "import numpy as np \n",
        "import pandas as pd \n",
        "from mlxtend.frequent_patterns import apriori, association_rules \n"
      ]
    },
    {
      "cell_type": "code",
      "source": [
        "from google.colab import files\n",
        "files.upload()"
      ],
      "metadata": {
        "id": "9VQmjTXBAF-g",
        "outputId": "973f9823-0360-4fcc-9717-c66fa3237b10",
        "colab": {
          "base_uri": "https://localhost:8080/",
          "height": 73
        }
      },
      "execution_count": 4,
      "outputs": [
        {
          "output_type": "display_data",
          "data": {
            "text/plain": [
              "<IPython.core.display.HTML object>"
            ],
            "text/html": [
              "\n",
              "     <input type=\"file\" id=\"files-a510e835-70b6-4b81-a315-020efe35fc9b\" name=\"files[]\" multiple disabled\n",
              "        style=\"border:none\" />\n",
              "     <output id=\"result-a510e835-70b6-4b81-a315-020efe35fc9b\">\n",
              "      Upload widget is only available when the cell has been executed in the\n",
              "      current browser session. Please rerun this cell to enable.\n",
              "      </output>\n",
              "      <script>// Copyright 2017 Google LLC\n",
              "//\n",
              "// Licensed under the Apache License, Version 2.0 (the \"License\");\n",
              "// you may not use this file except in compliance with the License.\n",
              "// You may obtain a copy of the License at\n",
              "//\n",
              "//      http://www.apache.org/licenses/LICENSE-2.0\n",
              "//\n",
              "// Unless required by applicable law or agreed to in writing, software\n",
              "// distributed under the License is distributed on an \"AS IS\" BASIS,\n",
              "// WITHOUT WARRANTIES OR CONDITIONS OF ANY KIND, either express or implied.\n",
              "// See the License for the specific language governing permissions and\n",
              "// limitations under the License.\n",
              "\n",
              "/**\n",
              " * @fileoverview Helpers for google.colab Python module.\n",
              " */\n",
              "(function(scope) {\n",
              "function span(text, styleAttributes = {}) {\n",
              "  const element = document.createElement('span');\n",
              "  element.textContent = text;\n",
              "  for (const key of Object.keys(styleAttributes)) {\n",
              "    element.style[key] = styleAttributes[key];\n",
              "  }\n",
              "  return element;\n",
              "}\n",
              "\n",
              "// Max number of bytes which will be uploaded at a time.\n",
              "const MAX_PAYLOAD_SIZE = 100 * 1024;\n",
              "\n",
              "function _uploadFiles(inputId, outputId) {\n",
              "  const steps = uploadFilesStep(inputId, outputId);\n",
              "  const outputElement = document.getElementById(outputId);\n",
              "  // Cache steps on the outputElement to make it available for the next call\n",
              "  // to uploadFilesContinue from Python.\n",
              "  outputElement.steps = steps;\n",
              "\n",
              "  return _uploadFilesContinue(outputId);\n",
              "}\n",
              "\n",
              "// This is roughly an async generator (not supported in the browser yet),\n",
              "// where there are multiple asynchronous steps and the Python side is going\n",
              "// to poll for completion of each step.\n",
              "// This uses a Promise to block the python side on completion of each step,\n",
              "// then passes the result of the previous step as the input to the next step.\n",
              "function _uploadFilesContinue(outputId) {\n",
              "  const outputElement = document.getElementById(outputId);\n",
              "  const steps = outputElement.steps;\n",
              "\n",
              "  const next = steps.next(outputElement.lastPromiseValue);\n",
              "  return Promise.resolve(next.value.promise).then((value) => {\n",
              "    // Cache the last promise value to make it available to the next\n",
              "    // step of the generator.\n",
              "    outputElement.lastPromiseValue = value;\n",
              "    return next.value.response;\n",
              "  });\n",
              "}\n",
              "\n",
              "/**\n",
              " * Generator function which is called between each async step of the upload\n",
              " * process.\n",
              " * @param {string} inputId Element ID of the input file picker element.\n",
              " * @param {string} outputId Element ID of the output display.\n",
              " * @return {!Iterable<!Object>} Iterable of next steps.\n",
              " */\n",
              "function* uploadFilesStep(inputId, outputId) {\n",
              "  const inputElement = document.getElementById(inputId);\n",
              "  inputElement.disabled = false;\n",
              "\n",
              "  const outputElement = document.getElementById(outputId);\n",
              "  outputElement.innerHTML = '';\n",
              "\n",
              "  const pickedPromise = new Promise((resolve) => {\n",
              "    inputElement.addEventListener('change', (e) => {\n",
              "      resolve(e.target.files);\n",
              "    });\n",
              "  });\n",
              "\n",
              "  const cancel = document.createElement('button');\n",
              "  inputElement.parentElement.appendChild(cancel);\n",
              "  cancel.textContent = 'Cancel upload';\n",
              "  const cancelPromise = new Promise((resolve) => {\n",
              "    cancel.onclick = () => {\n",
              "      resolve(null);\n",
              "    };\n",
              "  });\n",
              "\n",
              "  // Wait for the user to pick the files.\n",
              "  const files = yield {\n",
              "    promise: Promise.race([pickedPromise, cancelPromise]),\n",
              "    response: {\n",
              "      action: 'starting',\n",
              "    }\n",
              "  };\n",
              "\n",
              "  cancel.remove();\n",
              "\n",
              "  // Disable the input element since further picks are not allowed.\n",
              "  inputElement.disabled = true;\n",
              "\n",
              "  if (!files) {\n",
              "    return {\n",
              "      response: {\n",
              "        action: 'complete',\n",
              "      }\n",
              "    };\n",
              "  }\n",
              "\n",
              "  for (const file of files) {\n",
              "    const li = document.createElement('li');\n",
              "    li.append(span(file.name, {fontWeight: 'bold'}));\n",
              "    li.append(span(\n",
              "        `(${file.type || 'n/a'}) - ${file.size} bytes, ` +\n",
              "        `last modified: ${\n",
              "            file.lastModifiedDate ? file.lastModifiedDate.toLocaleDateString() :\n",
              "                                    'n/a'} - `));\n",
              "    const percent = span('0% done');\n",
              "    li.appendChild(percent);\n",
              "\n",
              "    outputElement.appendChild(li);\n",
              "\n",
              "    const fileDataPromise = new Promise((resolve) => {\n",
              "      const reader = new FileReader();\n",
              "      reader.onload = (e) => {\n",
              "        resolve(e.target.result);\n",
              "      };\n",
              "      reader.readAsArrayBuffer(file);\n",
              "    });\n",
              "    // Wait for the data to be ready.\n",
              "    let fileData = yield {\n",
              "      promise: fileDataPromise,\n",
              "      response: {\n",
              "        action: 'continue',\n",
              "      }\n",
              "    };\n",
              "\n",
              "    // Use a chunked sending to avoid message size limits. See b/62115660.\n",
              "    let position = 0;\n",
              "    do {\n",
              "      const length = Math.min(fileData.byteLength - position, MAX_PAYLOAD_SIZE);\n",
              "      const chunk = new Uint8Array(fileData, position, length);\n",
              "      position += length;\n",
              "\n",
              "      const base64 = btoa(String.fromCharCode.apply(null, chunk));\n",
              "      yield {\n",
              "        response: {\n",
              "          action: 'append',\n",
              "          file: file.name,\n",
              "          data: base64,\n",
              "        },\n",
              "      };\n",
              "\n",
              "      let percentDone = fileData.byteLength === 0 ?\n",
              "          100 :\n",
              "          Math.round((position / fileData.byteLength) * 100);\n",
              "      percent.textContent = `${percentDone}% done`;\n",
              "\n",
              "    } while (position < fileData.byteLength);\n",
              "  }\n",
              "\n",
              "  // All done.\n",
              "  yield {\n",
              "    response: {\n",
              "      action: 'complete',\n",
              "    }\n",
              "  };\n",
              "}\n",
              "\n",
              "scope.google = scope.google || {};\n",
              "scope.google.colab = scope.google.colab || {};\n",
              "scope.google.colab._files = {\n",
              "  _uploadFiles,\n",
              "  _uploadFilesContinue,\n",
              "};\n",
              "})(self);\n",
              "</script> "
            ]
          },
          "metadata": {}
        },
        {
          "output_type": "stream",
          "name": "stdout",
          "text": [
            "Saving Online Retail.xlsx to Online Retail (1).xlsx\n"
          ]
        }
      ]
    },
    {
      "cell_type": "code",
      "execution_count": null,
      "metadata": {
        "id": "jFyhRuHeL5zV"
      },
      "outputs": [],
      "source": [
        "data = pd.read_excel('Online Retail.xlsx') \n",
        "data.head() "
      ]
    },
    {
      "cell_type": "code",
      "execution_count": null,
      "metadata": {
        "id": "2o_iAcx3MA_B"
      },
      "outputs": [],
      "source": [
        "data.columns"
      ]
    },
    {
      "cell_type": "code",
      "execution_count": 18,
      "metadata": {
        "colab": {
          "base_uri": "https://localhost:8080/"
        },
        "id": "Qu0OoK6fNnIo",
        "outputId": "20c55cf6-5ce3-4f0d-a32b-d8f3cf0af7b0"
      },
      "outputs": [
        {
          "output_type": "execute_result",
          "data": {
            "text/plain": [
              "array(['United Kingdom', 'France', 'Australia', 'Netherlands', 'Germany',\n",
              "       'Norway', 'EIRE', 'Switzerland', 'Spain', 'Poland', 'Portugal',\n",
              "       'Italy', 'Belgium', 'Lithuania', 'Japan', 'Iceland',\n",
              "       'Channel Islands', 'Denmark', 'Cyprus', 'Sweden', 'Finland',\n",
              "       'Austria', 'Bahrain', 'Israel', 'Greece', 'Hong Kong', 'Singapore',\n",
              "       'Lebanon', 'United Arab Emirates', 'Saudi Arabia',\n",
              "       'Czech Republic', 'Canada', 'Unspecified', 'Brazil', 'USA',\n",
              "       'European Community', 'Malta', 'RSA'], dtype=object)"
            ]
          },
          "metadata": {},
          "execution_count": 18
        }
      ],
      "source": [
        "data.Country.unique()"
      ]
    },
    {
      "cell_type": "code",
      "execution_count": null,
      "metadata": {
        "id": "-CFrgwwVNxTk"
      },
      "outputs": [],
      "source": [
        "data['Description'] = data['Description'].str.strip()"
      ]
    },
    {
      "cell_type": "code",
      "execution_count": null,
      "metadata": {
        "id": "MYXlsnCIN47Q"
      },
      "outputs": [],
      "source": [
        "data.dropna(axis = 0, subset =['InvoiceNo'], inplace = True) \n",
        "data['InvoiceNo'] = data['InvoiceNo'].astype('str') "
      ]
    },
    {
      "cell_type": "code",
      "execution_count": null,
      "metadata": {
        "id": "m9fst7ZoN-T2"
      },
      "outputs": [],
      "source": [
        "data = data[~data['InvoiceNo'].str.contains('C')] "
      ]
    },
    {
      "cell_type": "code",
      "execution_count": 29,
      "metadata": {
        "id": "utI7O4a3OUs6"
      },
      "outputs": [],
      "source": [
        "basket_spain = (data[data['Country'] ==\"Spain\"] \n",
        "          .groupby(['InvoiceNo', 'Description'])['Quantity'] \n",
        "          .sum().unstack().reset_index().fillna(0) \n",
        "          .set_index('InvoiceNo')) \n",
        "  \n",
        "# Transactions done in the United Kingdom \n",
        "basket_bahrain = (data[data['Country'] ==\"Bahrain\"] \n",
        "          .groupby(['InvoiceNo', 'Description'])['Quantity'] \n",
        "          .sum().unstack().reset_index().fillna(0) \n",
        "          .set_index('InvoiceNo')) \n",
        "  \n",
        "# Transactions done in Portugal \n",
        "basket_EIRE = (data[data['Country'] ==\"EIRE\"] \n",
        "          .groupby(['InvoiceNo', 'Description'])['Quantity'] \n",
        "          .sum().unstack().reset_index().fillna(0) \n",
        "          .set_index('InvoiceNo')) \n",
        "\n",
        "\"\"\"\n",
        "Causan ciclo:  #'EIRE',\n",
        "'Malta', 'Sweden', 'Czech Republic', 'EIRE', //'Switzerland'//, 'USA', \n",
        "\"\"\"\n",
        "  \n",
        "basket_uk = (data[data['Country'] =='United Kingdom'] \n",
        "          .groupby(['InvoiceNo', 'Description'])['Quantity'] \n",
        "          .sum().unstack().reset_index().fillna(0) \n",
        "          .set_index('InvoiceNo')) "
      ]
    },
    {
      "cell_type": "code",
      "execution_count": 20,
      "metadata": {
        "id": "RekxXiU_Ov50"
      },
      "outputs": [],
      "source": [
        "def hot_encode(x): \n",
        "    if(x<= 0): \n",
        "        return 0\n",
        "    if(x>= 1): \n",
        "        return 1"
      ]
    },
    {
      "cell_type": "code",
      "execution_count": 30,
      "metadata": {
        "id": "mRbQ8k58O1wD"
      },
      "outputs": [],
      "source": [
        "basket_encoded = basket_spain.applymap(hot_encode) \n",
        "basket_spain = basket_encoded \n",
        "  \n",
        "basket_encoded = basket_bahrain.applymap(hot_encode) \n",
        "basket_bahrain = basket_encoded \n",
        "  \n",
        "basket_encoded = basket_EIRE.applymap(hot_encode) \n",
        "basket_EIRE = basket_encoded \n",
        "  \n",
        "basket_encoded = basket_uk.applymap(hot_encode) \n",
        "basket_uk = basket_encoded "
      ]
    },
    {
      "cell_type": "code",
      "execution_count": 32,
      "metadata": {
        "id": "DLo0QMH4PCmZ",
        "colab": {
          "base_uri": "https://localhost:8080/"
        },
        "outputId": "e4b784d9-4278-45df-cfc4-4823cc99bfb0"
      },
      "outputs": [
        {
          "output_type": "stream",
          "name": "stdout",
          "text": [
            "                                           antecedents  \\\n",
            "242     (LUNCH BAG CARS BLUE, LUNCH BAG PINK POLKADOT)   \n",
            "243                          (LUNCH BAG  BLACK SKULL.)   \n",
            "65                    (PINK REGENCY TEACUP AND SAUCER)   \n",
            "84                           (LUNCH BAG  BLACK SKULL.)   \n",
            "236  (ROSES REGENCY TEACUP AND SAUCER, PINK REGENCY...   \n",
            "\n",
            "                                        consequents  antecedent support  \\\n",
            "242                       (LUNCH BAG  BLACK SKULL.)            0.055556   \n",
            "243  (LUNCH BAG CARS BLUE, LUNCH BAG PINK POLKADOT)            0.055556   \n",
            "65                (GREEN REGENCY TEACUP AND SAUCER)            0.055556   \n",
            "84                            (LUNCH BAG CARS BLUE)            0.055556   \n",
            "236               (GREEN REGENCY TEACUP AND SAUCER)            0.055556   \n",
            "\n",
            "     consequent support   support  confidence  lift  leverage  conviction  \n",
            "242            0.055556  0.055556         1.0  18.0  0.052469         inf  \n",
            "243            0.055556  0.055556         1.0  18.0  0.052469         inf  \n",
            "65             0.066667  0.055556         1.0  15.0  0.051852         inf  \n",
            "84             0.066667  0.055556         1.0  15.0  0.051852         inf  \n",
            "236            0.066667  0.055556         1.0  15.0  0.051852         inf  \n"
          ]
        }
      ],
      "source": [
        "frq_items = apriori(basket_spain, min_support = 0.05, use_colnames = True) \n",
        "  \n",
        "rules = association_rules(frq_items, metric =\"lift\", min_threshold = 1) \n",
        "rules = rules.sort_values(['confidence', 'lift'], ascending =[False, False]) \n",
        "print(rules.head()) "
      ]
    },
    {
      "cell_type": "code",
      "execution_count": 33,
      "metadata": {
        "colab": {
          "base_uri": "https://localhost:8080/"
        },
        "id": "1Yx7bxoxPMVG",
        "outputId": "dab897e4-3007-4c4d-f9fc-b2bea4402b2f"
      },
      "outputs": [
        {
          "output_type": "stream",
          "name": "stdout",
          "text": [
            "                            antecedents                           consequents  \\\n",
            "0   (CERAMIC CAKE BOWL + HANGING CAKES)  (CERAMIC CAKE STAND + HANGING CAKES)   \n",
            "1  (CERAMIC CAKE STAND + HANGING CAKES)   (CERAMIC CAKE BOWL + HANGING CAKES)   \n",
            "2  (MINI CAKE STAND WITH HANGING CAKES)   (CERAMIC CAKE BOWL + HANGING CAKES)   \n",
            "3   (CERAMIC CAKE BOWL + HANGING CAKES)  (MINI CAKE STAND WITH HANGING CAKES)   \n",
            "6  (MINI CAKE STAND WITH HANGING CAKES)  (CERAMIC CAKE STAND + HANGING CAKES)   \n",
            "\n",
            "   antecedent support  consequent support   support  confidence  lift  \\\n",
            "0            0.333333            0.333333  0.333333         1.0   3.0   \n",
            "1            0.333333            0.333333  0.333333         1.0   3.0   \n",
            "2            0.333333            0.333333  0.333333         1.0   3.0   \n",
            "3            0.333333            0.333333  0.333333         1.0   3.0   \n",
            "6            0.333333            0.333333  0.333333         1.0   3.0   \n",
            "\n",
            "   leverage  conviction  \n",
            "0  0.222222         inf  \n",
            "1  0.222222         inf  \n",
            "2  0.222222         inf  \n",
            "3  0.222222         inf  \n",
            "6  0.222222         inf  \n"
          ]
        }
      ],
      "source": [
        "frq_items = apriori(basket_bahrain, min_support = 0.01, use_colnames = True) \n",
        "rules = association_rules(frq_items, metric =\"lift\", min_threshold = 1) \n",
        "rules = rules.sort_values(['confidence', 'lift'], ascending =[False, False]) \n",
        "print(rules.head()) "
      ]
    },
    {
      "cell_type": "code",
      "execution_count": 34,
      "metadata": {
        "id": "n2ylD7UcQVLa",
        "colab": {
          "base_uri": "https://localhost:8080/"
        },
        "outputId": "2dfed70a-c5e6-411c-8034-de64329dd01e"
      },
      "outputs": [
        {
          "output_type": "stream",
          "name": "stdout",
          "text": [
            "                                           antecedents  \\\n",
            "194  (REGENCY TEA PLATE PINK, REGENCY CAKESTAND 3 T...   \n",
            "182   (REGENCY TEAPOT ROSES, REGENCY CAKESTAND 3 TIER)   \n",
            "117  (GREEN REGENCY TEACUP AND SAUCER, REGENCY CAKE...   \n",
            "128  (GREEN REGENCY TEACUP AND SAUCER, REGENCY SUGA...   \n",
            "140  (REGENCY TEAPOT ROSES, GREEN REGENCY TEACUP AN...   \n",
            "\n",
            "                           consequents  antecedent support  \\\n",
            "194          (REGENCY TEA PLATE GREEN)            0.055556   \n",
            "182         (REGENCY SUGAR BOWL GREEN)            0.052083   \n",
            "117  (ROSES REGENCY TEACUP AND SAUCER)            0.086806   \n",
            "128  (ROSES REGENCY TEACUP AND SAUCER)            0.062500   \n",
            "140  (ROSES REGENCY TEACUP AND SAUCER)            0.052083   \n",
            "\n",
            "     consequent support   support  confidence       lift  leverage  conviction  \n",
            "194            0.079861  0.055556         1.0  12.521739  0.051119         inf  \n",
            "182            0.086806  0.052083         1.0  11.520000  0.047562         inf  \n",
            "117            0.166667  0.086806         1.0   6.000000  0.072338         inf  \n",
            "128            0.166667  0.062500         1.0   6.000000  0.052083         inf  \n",
            "140            0.166667  0.052083         1.0   6.000000  0.043403         inf  \n"
          ]
        }
      ],
      "source": [
        "frq_items = apriori(basket_EIRE, min_support = 0.05, use_colnames = True) \n",
        "rules = association_rules(frq_items, metric =\"lift\", min_threshold = 1) \n",
        "rules = rules.sort_values(['confidence', 'lift'], ascending =[False, False]) \n",
        "print(rules.head()) "
      ]
    },
    {
      "cell_type": "code",
      "execution_count": 35,
      "metadata": {
        "id": "aiGRp47wQfyD",
        "colab": {
          "base_uri": "https://localhost:8080/"
        },
        "outputId": "5d9dfd5a-2517-4f4b-ef0a-792b56710806"
      },
      "outputs": [
        {
          "output_type": "stream",
          "name": "stdout",
          "text": [
            "Empty DataFrame\n",
            "Columns: [antecedents, consequents, antecedent support, consequent support, support, confidence, lift, leverage, conviction]\n",
            "Index: []\n"
          ]
        }
      ],
      "source": [
        "frq_items = apriori(basket_uk, min_support = 0.05, use_colnames = True) \n",
        "rules = association_rules(frq_items, metric =\"lift\", min_threshold = 1) \n",
        "rules = rules.sort_values(['confidence', 'lift'], ascending =[False, False]) \n",
        "print(rules.head()) "
      ]
    },
    {
      "cell_type": "code",
      "execution_count": null,
      "metadata": {
        "id": "ftodOFES_xp9"
      },
      "outputs": [],
      "source": []
    }
  ],
  "metadata": {
    "colab": {
      "provenance": [],
      "include_colab_link": true
    },
    "kernelspec": {
      "display_name": "Python 3",
      "language": "python",
      "name": "python3"
    },
    "language_info": {
      "codemirror_mode": {
        "name": "ipython",
        "version": 3
      },
      "file_extension": ".py",
      "mimetype": "text/x-python",
      "name": "python",
      "nbconvert_exporter": "python",
      "pygments_lexer": "ipython3",
      "version": "3.8.5"
    }
  },
  "nbformat": 4,
  "nbformat_minor": 0
}